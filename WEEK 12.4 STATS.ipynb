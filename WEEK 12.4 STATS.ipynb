{
 "cells": [
  {
   "cell_type": "markdown",
   "id": "a85911ef-bcd0-415c-bcc3-6f10b2bb2371",
   "metadata": {},
   "source": [
    "**Q1. Write a Python function that takes in two arrays of data and calculates the F-value for a variance ratio\n",
    "test. The function should return the F-value and the corresponding p-value for the test.**"
   ]
  },
  {
   "cell_type": "code",
   "execution_count": 1,
   "id": "b3767fe4-3bc3-49f8-9307-05689bfed1d6",
   "metadata": {},
   "outputs": [],
   "source": [
    "import numpy as np\n",
    "from scipy.stats import f_oneway\n",
    "\n",
    "def variance_ratio_test(data1, data2):\n",
    "    \"\"\"\n",
    "    Perform variance ratio test (F-test) to compare variances of two datasets.\n",
    "    \n",
    "    Parameters:\n",
    "    - data1 (array-like): First array of data.\n",
    "    - data2 (array-like): Second array of data.\n",
    "    \n",
    "    Returns:\n",
    "    - f_value (float): Computed F-value for the variance ratio test.\n",
    "    - p_value (float): Corresponding p-value for the test.\n",
    "    \"\"\"\n",
    "    # Convert input arrays to numpy arrays\n",
    "    data1 = np.array(data1)\n",
    "    data2 = np.array(data2)\n",
    "    \n",
    "    # Perform variance ratio test (F-test)\n",
    "    f_value, p_value = f_oneway(data1, data2)\n",
    "    \n",
    "    return f_value, p_value\n"
   ]
  },
  {
   "cell_type": "code",
   "execution_count": 2,
   "id": "43b7088f-81de-4b8b-9017-e42a189a3cd9",
   "metadata": {},
   "outputs": [
    {
     "name": "stdout",
     "output_type": "stream",
     "text": [
      "F-value: 0.0009082652134423265\n",
      "P-value: 0.9766957325373955\n"
     ]
    }
   ],
   "source": [
    "# Example \n",
    "data1 = [1.2, 2.5, 3.7, 2.1, 4.5]\n",
    "data2 = [1.8, 3.2, 2.9, 3.6, 2.4]\n",
    "\n",
    "f_value, p_value = variance_ratio_test(data1, data2)\n",
    "\n",
    "print(f\"F-value: {f_value}\")\n",
    "print(f\"P-value: {p_value}\")\n"
   ]
  },
  {
   "cell_type": "markdown",
   "id": "1e286de3-5b6e-4f6f-b0ca-9b4124235a9c",
   "metadata": {},
   "source": [
    "**Q2. Given a significance level of 0.05 and the degrees of freedom for the numerator and denominator of an\n",
    "F-distribution, write a Python function that returns the critical F-value for a two-tailed test.**"
   ]
  },
  {
   "cell_type": "markdown",
   "id": "b16dacfe-a982-415e-aed2-81d0a4b47b5a",
   "metadata": {},
   "source": [
    "**ANSWER**:---\n",
    "\n",
    "To calculate the critical F-value for a given significance level and degrees of freedom in the numerator and denominator of an F-distribution, you can use the `scipy.stats` library in Python. The `scipy.stats.f` module provides the necessary functions to compute the critical value for an F-distribution.\n",
    "\n",
    "Here's a step-by-step implementation:\n",
    "\n",
    "### Step-by-Step Implementation\n",
    "\n",
    "1. **Import Required Library**:\n",
    "   - `scipy.stats` for statistical functions.\n",
    "\n",
    "2. **Define the Function**:\n",
    "   - Create a function `critical_f_value` that takes the significance level (`alpha`), degrees of freedom for the numerator (`dfn`), and degrees of freedom for the denominator (`dfd`) as input.\n",
    "\n",
    "3. **Calculate the Critical F-Value**:\n",
    "   - Use the `ppf` (percent point function) from `scipy.stats.f` to compute the critical F-value for the specified significance level and degrees of freedom.\n"
   ]
  },
  {
   "cell_type": "code",
   "execution_count": 3,
   "id": "7e07fcdf-5a6f-4627-b5ab-4f3ffd5d56f2",
   "metadata": {},
   "outputs": [],
   "source": [
    "from scipy.stats import f\n",
    "\n",
    "def critical_f_value(alpha, dfn, dfd, two_tailed=True):\n",
    "    \"\"\"\n",
    "    Calculate the critical F-value for a given significance level and degrees of freedom.\n",
    "    \n",
    "    Parameters:\n",
    "    - alpha (float): Significance level (e.g., 0.05).\n",
    "    - dfn (int): Degrees of freedom in the numerator.\n",
    "    - dfd (int): Degrees of freedom in the denominator.\n",
    "    - two_tailed (bool): Whether to use a two-tailed test. Default is True.\n",
    "    \n",
    "    Returns:\n",
    "    - critical_value (float): Critical F-value.\n",
    "    \"\"\"\n",
    "    if two_tailed:\n",
    "        alpha /= 2\n",
    "    \n",
    "    # Calculate the critical F-value\n",
    "    critical_value = f.ppf(1 - alpha, dfn, dfd)\n",
    "    \n",
    "    return critical_value\n"
   ]
  },
  {
   "cell_type": "code",
   "execution_count": 4,
   "id": "8de75aaa-7d8d-4350-8d53-2b635cd81e4a",
   "metadata": {},
   "outputs": [
    {
     "name": "stdout",
     "output_type": "stream",
     "text": [
      "Critical F-value: 4.236085668188633\n"
     ]
    }
   ],
   "source": [
    "# Example \n",
    "alpha = 0.05\n",
    "dfn = 5   # Degrees of freedom for the numerator\n",
    "dfd = 10  # Degrees of freedom for the denominator\n",
    "\n",
    "critical_value = critical_f_value(alpha, dfn, dfd, two_tailed=True)\n",
    "\n",
    "print(f\"Critical F-value: {critical_value}\")\n"
   ]
  },
  {
   "cell_type": "markdown",
   "id": "9cc9fada-0cf8-47e4-ab71-4011c9f3e7af",
   "metadata": {},
   "source": [
    "**Q3. Write a Python program that generates random samples from two normal distributions with known variances and uses an F-test to determine if the variances are equal. The program should output the F-\n",
    "value, degrees of freedom, and p-value for the test.**"
   ]
  },
  {
   "cell_type": "markdown",
   "id": "1a6e0245-4f31-4056-8abd-fd2e5a02a645",
   "metadata": {},
   "source": [
    "**ANSWER**:----\n",
    "\n",
    "To generate random samples from two normal distributions with known variances and perform an F-test to determine if the variances are equal, you can use the `numpy` and `scipy.stats` libraries in Python. Here's how you can implement this:\n",
    "\n",
    "### Step-by-Step Implementation\n",
    "\n",
    "1. **Import Required Libraries**:\n",
    "   - `numpy` for generating random samples.\n",
    "   - `scipy.stats` for performing the F-test.\n",
    "\n",
    "2. **Generate Random Samples**:\n",
    "   - Use `numpy.random.normal` to generate random samples from two normal distributions with specified means and variances.\n",
    "\n",
    "3. **Perform F-Test**:\n",
    "   - Use `scipy.stats.f_oneway` to compute the F-value and p-value for the variance ratio test.\n",
    "   - Calculate degrees of freedom for the numerator and denominator.\n",
    "\n",
    "4. **Output the Results**:\n",
    "   - Print the F-value, degrees of freedom for both the numerator and the denominator, and the p-value.\n",
    "\n"
   ]
  },
  {
   "cell_type": "code",
   "execution_count": 5,
   "id": "b7ae8a3f-8154-44af-a16a-60c51c4764c5",
   "metadata": {},
   "outputs": [
    {
     "name": "stdout",
     "output_type": "stream",
     "text": [
      "F-value: 1.7842834510987886\n",
      "Degrees of freedom for numerator (dfn): 29\n",
      "Degrees of freedom for denominator (dfd): 29\n",
      "P-value: 0.06237142705703057\n"
     ]
    }
   ],
   "source": [
    "import numpy as np\n",
    "from scipy.stats import f\n",
    "\n",
    "def generate_samples_and_test(n1, mean1, var1, n2, mean2, var2):\n",
    "    \"\"\"\n",
    "    Generate random samples from two normal distributions and perform an F-test to compare variances.\n",
    "    \n",
    "    Parameters:\n",
    "    - n1 (int): Sample size for the first distribution.\n",
    "    - mean1 (float): Mean of the first distribution.\n",
    "    - var1 (float): Variance of the first distribution.\n",
    "    - n2 (int): Sample size for the second distribution.\n",
    "    - mean2 (float): Mean of the second distribution.\n",
    "    - var2 (float): Variance of the second distribution.\n",
    "    \n",
    "    Returns:\n",
    "    - f_value (float): Computed F-value for the variance ratio test.\n",
    "    - dfn (int): Degrees of freedom for the numerator.\n",
    "    - dfd (int): Degrees of freedom for the denominator.\n",
    "    - p_value (float): Corresponding p-value for the test.\n",
    "    \"\"\"\n",
    "    # Generate random samples\n",
    "    sample1 = np.random.normal(loc=mean1, scale=np.sqrt(var1), size=n1)\n",
    "    sample2 = np.random.normal(loc=mean2, scale=np.sqrt(var2), size=n2)\n",
    "    \n",
    "    # Calculate sample variances\n",
    "    var1_sample = np.var(sample1, ddof=1)\n",
    "    var2_sample = np.var(sample2, ddof=1)\n",
    "    \n",
    "    # Perform F-test\n",
    "    f_value = var1_sample / var2_sample if var1_sample > var2_sample else var2_sample / var1_sample\n",
    "    dfn = len(sample1) - 1\n",
    "    dfd = len(sample2) - 1\n",
    "    p_value = f.cdf(f_value, dfn, dfd) if var1_sample > var2_sample else f.sf(f_value, dfd, dfn)\n",
    "    \n",
    "    return f_value, dfn, dfd, p_value\n",
    "\n",
    "# Example usage\n",
    "n1 = 30\n",
    "mean1 = 0\n",
    "var1 = 1\n",
    "n2 = 30\n",
    "mean2 = 0\n",
    "var2 = 1.5\n",
    "\n",
    "f_value, dfn, dfd, p_value = generate_samples_and_test(n1, mean1, var1, n2, mean2, var2)\n",
    "\n",
    "print(f\"F-value: {f_value}\")\n",
    "print(f\"Degrees of freedom for numerator (dfn): {dfn}\")\n",
    "print(f\"Degrees of freedom for denominator (dfd): {dfd}\")\n",
    "print(f\"P-value: {p_value}\")\n"
   ]
  },
  {
   "cell_type": "markdown",
   "id": "d9b31d91-7fef-47e6-a828-20b9a2bbd483",
   "metadata": {},
   "source": [
    "**Q4.The variances of two populations are known to be 10 and 15. A sample of 12 observations is taken from\n",
    "each population. Conduct an F-test at the 5% significance level to determine if the variances are\n",
    "significantly different.**"
   ]
  },
  {
   "cell_type": "markdown",
   "id": "b2e38ff2-8d73-4197-a305-1446d982298a",
   "metadata": {},
   "source": [
    "**ANSWER**:---\n",
    "\n",
    "To conduct an F-test at the 5% significance level to determine if the variances of two populations (known to be 10 and 15) are significantly different, you can follow these steps:\n",
    "\n",
    "1. **Define Hypotheses**:\n",
    "   - Null Hypothesis \\( H_0 \\): The variances are equal (\\( \\sigma_1^2 = \\sigma_2^2 \\)).\n",
    "   - Alternative Hypothesis \\( H_1 \\): The variances are not equal (\\( \\sigma_1^2 \\neq \\sigma_2^2 \\)).\n",
    "\n",
    "2. **Calculate the F-Statistic**:\n",
    "   - The F-statistic is the ratio of the two sample variances. Given that the sample sizes are equal (12 observations each), the degrees of freedom for both the numerator and the denominator are \\( n - 1 = 11 \\).\n",
    "\n",
    "3. **Determine the Critical F-Value**:\n",
    "   - Use the F-distribution table or a statistical function to find the critical F-value at the 5% significance level for a two-tailed test with 11 degrees of freedom for both the numerator and the denominator.\n",
    "\n",
    "4. **Compare the F-Statistic with the Critical F-Value**:\n",
    "   - If the F-statistic is greater than the critical F-value or less than the reciprocal of the critical F-value, reject the null hypothesis.\n",
    "\n",
    "Here's how you can implement this in Python:\n",
    "\n",
    "### Step-by-Step Python Implementation\n",
    "\n",
    "1. **Import Required Libraries**:\n",
    "   - `scipy.stats` for the F-distribution.\n",
    "\n",
    "2. **Calculate the F-Statistic**:\n",
    "   - Use the provided variances and sample sizes.\n",
    "\n",
    "3. **Determine the Critical F-Value**:\n",
    "   - Use the `scipy.stats.f.ppf` function to find the critical F-value for a two-tailed test.\n",
    "\n",
    "4. **Perform the Test and Interpret the Results**:\n",
    "   - Compare the F-statistic with the critical F-values and determine if the null hypothesis can be rejected.\n"
   ]
  },
  {
   "cell_type": "code",
   "execution_count": 6,
   "id": "da550d25-0c03-4d5e-b7e9-10acd890a836",
   "metadata": {},
   "outputs": [
    {
     "name": "stdout",
     "output_type": "stream",
     "text": [
      "F-statistic: 0.6666666666666666\n",
      "Critical F-value (upper): 3.473699051085809\n",
      "Critical F-value (lower): 0.28787755798459863\n",
      "Fail to reject the null hypothesis: The variances are not significantly different.\n"
     ]
    }
   ],
   "source": [
    "from scipy.stats import f\n",
    "\n",
    "# Given data\n",
    "variance1 = 10\n",
    "variance2 = 15\n",
    "n1 = 12\n",
    "n2 = 12\n",
    "\n",
    "# Calculate the F-statistic\n",
    "f_statistic = variance1 / variance2\n",
    "\n",
    "# Degrees of freedom\n",
    "dfn = n1 - 1\n",
    "dfd = n2 - 1\n",
    "\n",
    "# Significance level for a two-tailed test\n",
    "alpha = 0.05\n",
    "\n",
    "# Critical F-values for a two-tailed test\n",
    "f_critical_upper = f.ppf(1 - alpha / 2, dfn, dfd)\n",
    "f_critical_lower = f.ppf(alpha / 2, dfn, dfd)\n",
    "\n",
    "# Perform the F-test and interpret the results\n",
    "print(f\"F-statistic: {f_statistic}\")\n",
    "print(f\"Critical F-value (upper): {f_critical_upper}\")\n",
    "print(f\"Critical F-value (lower): {f_critical_lower}\")\n",
    "\n",
    "if f_statistic > f_critical_upper or f_statistic < 1 / f_critical_upper:\n",
    "    print(\"Reject the null hypothesis: The variances are significantly different.\")\n",
    "else:\n",
    "    print(\"Fail to reject the null hypothesis: The variances are not significantly different.\")\n"
   ]
  },
  {
   "cell_type": "markdown",
   "id": "3e30d96c-a2ca-4773-a2bb-8b540462fbd9",
   "metadata": {},
   "source": [
    "**Q5. A manufacturer claims that the variance of the diameter of a certain product is 0.005. A sample of 25\n",
    "products is taken, and the sample variance is found to be 0.006. Conduct an F-test at the 1% significance\n",
    "level to determine if the claim is justified.**"
   ]
  },
  {
   "cell_type": "markdown",
   "id": "80765c67-cd09-4879-91bf-ca5ac1787379",
   "metadata": {},
   "source": [
    "**ANSWER**:----\n",
    "\n",
    "To conduct an F-test at the 1% significance level to determine if the manufacturer's claim about the variance of the diameter of a certain product is justified, follow these steps:\n",
    "\n",
    "1. **Define Hypotheses**:\n",
    "   - Null Hypothesis \\( H_0 \\): The population variance is equal to the claimed variance (\\( \\sigma^2 = 0.005 \\)).\n",
    "   - Alternative Hypothesis \\( H_1 \\): The population variance is not equal to the claimed variance (\\( \\sigma^2 \\neq 0.005 \\)).\n",
    "\n",
    "2. **Calculate the F-Statistic**:\n",
    "   - The F-statistic is the ratio of the sample variance to the claimed population variance.\n",
    "\n",
    "3. **Determine the Critical F-Value**:\n",
    "   - Use the F-distribution to find the critical F-value at the 1% significance level for a two-tailed test with degrees of freedom \\( df_n = n - 1 \\).\n",
    "\n",
    "4. **Compare the F-Statistic with the Critical F-Value**:\n",
    "   - If the F-statistic is greater than the upper critical F-value or less than the reciprocal of the lower critical F-value, reject the null hypothesis.\n",
    "\n",
    "Here's how you can implement this in Python:\n",
    "\n",
    "### Step-by-Step Python Implementation\n",
    "\n",
    "1. **Import Required Libraries**:\n",
    "   - `scipy.stats` for the F-distribution.\n",
    "\n",
    "2. **Calculate the F-Statistic**:\n",
    "   - Use the sample variance and the claimed variance.\n",
    "\n",
    "3. **Determine the Critical F-Values**:\n",
    "   - Use the `scipy.stats.f.ppf` function to find the critical F-values for a two-tailed test.\n",
    "\n",
    "4. **Perform the Test and Interpret the Results**:\n",
    "   - Compare the F-statistic with the critical F-values and determine if the null hypothesis can be rejected.\n",
    "\n"
   ]
  },
  {
   "cell_type": "code",
   "execution_count": 7,
   "id": "bbe9a98a-0e34-4b23-9bb1-31eadd15adab",
   "metadata": {},
   "outputs": [
    {
     "name": "stdout",
     "output_type": "stream",
     "text": [
      "F-statistic: 1.2\n",
      "Critical F-value (upper): 2.966741631292762\n",
      "Critical F-value (lower): 0.3370701342685674\n",
      "Fail to reject the null hypothesis: The variance is not significantly different from the claimed value.\n"
     ]
    }
   ],
   "source": [
    "from scipy.stats import f\n",
    "\n",
    "# Given data\n",
    "claimed_variance = 0.005\n",
    "sample_variance = 0.006\n",
    "n = 25\n",
    "\n",
    "# Calculate the F-statistic\n",
    "f_statistic = sample_variance / claimed_variance\n",
    "\n",
    "# Degrees of freedom\n",
    "dfn = n - 1\n",
    "dfd = n - 1\n",
    "\n",
    "# Significance level for a two-tailed test\n",
    "alpha = 0.01\n",
    "\n",
    "# Critical F-values for a two-tailed test\n",
    "f_critical_upper = f.ppf(1 - alpha / 2, dfn, dfd)\n",
    "f_critical_lower = f.ppf(alpha / 2, dfn, dfd)\n",
    "\n",
    "# Perform the F-test and interpret the results\n",
    "print(f\"F-statistic: {f_statistic}\")\n",
    "print(f\"Critical F-value (upper): {f_critical_upper}\")\n",
    "print(f\"Critical F-value (lower): {f_critical_lower}\")\n",
    "\n",
    "if f_statistic > f_critical_upper or f_statistic < 1 / f_critical_upper:\n",
    "    print(\"Reject the null hypothesis: The variance is significantly different from the claimed value.\")\n",
    "else:\n",
    "    print(\"Fail to reject the null hypothesis: The variance is not significantly different from the claimed value.\")\n"
   ]
  },
  {
   "cell_type": "markdown",
   "id": "9b738272-d317-41db-a23a-950a7a1af59c",
   "metadata": {},
   "source": [
    "**Q6. Write a Python function that takes in the degrees of freedom for the numerator and denominator of an\n",
    "F-distribution and calculates the mean and variance of the distribution. The function should return the\n",
    "mean and variance as a tuple.**"
   ]
  },
  {
   "cell_type": "markdown",
   "id": "92a10e7b-0a9e-40ac-abf2-3b5139f73831",
   "metadata": {},
   "source": [
    "**ANSWER**:----\n",
    "\n",
    "To write a Python function that calculates the mean and variance of an F-distribution given the degrees of freedom for the numerator and denominator, you can use the following formulas:\n",
    "\n",
    "- **Mean of the F-distribution**:\n",
    "  \\[\n",
    "  \\text{Mean} = \\frac{d_2}{d_2 - 2} \\quad \\text{for} \\quad d_2 > 2\n",
    "  \\]\n",
    "- **Variance of the F-distribution**:\n",
    "  \\[\n",
    "  \\text{Variance} = \\frac{2d_2^2(d_1 + d_2 - 2)}{d_1(d_2 - 2)^2(d_2 - 4)} \\quad \\text{for} \\quad d_2 > 4\n",
    "  \\]\n",
    "\n",
    "Where \\( d_1 \\) is the degrees of freedom for the numerator and \\( d_2 \\) is the degrees of freedom for the denominator.\n"
   ]
  },
  {
   "cell_type": "code",
   "execution_count": 10,
   "id": "c15dbf6f-796f-43a7-8145-10a52efc1083",
   "metadata": {},
   "outputs": [
    {
     "name": "stdout",
     "output_type": "stream",
     "text": [
      "(Mean: 1.25)\n",
      "(Variance: 1.3541666666666667)\n"
     ]
    }
   ],
   "source": [
    "def f_distribution_mean_variance(dfn, dfd):\n",
    "    \"\"\"\n",
    "    Calculate the mean and variance of an F-distribution given degrees of freedom for the numerator and denominator.\n",
    "    \n",
    "    Parameters:\n",
    "    - dfn (int): Degrees of freedom for the numerator.\n",
    "    - dfd (int): Degrees of freedom for the denominator.\n",
    "    \n",
    "    Returns:\n",
    "    - (mean, variance) (tuple): Mean and variance of the F-distribution.\n",
    "    \"\"\"\n",
    "    if dfd <= 2:\n",
    "        mean = float('inf')  # Mean is undefined for dfd <= 2\n",
    "    else:\n",
    "        mean = dfd / (dfd - 2)\n",
    "    \n",
    "    if dfd <= 4:\n",
    "        variance = float('inf')  # Variance is undefined for dfd <= 4\n",
    "    else:\n",
    "        variance = (2 * (dfd ** 2) * (dfn + dfd - 2)) / (dfn * ((dfd - 2) ** 2) * (dfd - 4))\n",
    "    \n",
    "    return mean, variance\n",
    "\n",
    "# Example usage\n",
    "dfn = 5  # Degrees of freedom for the numerator\n",
    "dfd = 10  # Degrees of freedom for the denominator\n",
    "\n",
    "mean, variance = f_distribution_mean_variance(dfn, dfd)\n",
    "print(f\"(Mean: {mean})\")\n",
    "print(f\"(Variance: {variance})\")\n"
   ]
  },
  {
   "cell_type": "markdown",
   "id": "3fc47be4-11c1-4bf8-a7ed-fdf383b991d0",
   "metadata": {},
   "source": [
    "**Q7. A random sample of 10 measurements is taken from a normal population with unknown variance. The\n",
    "sample variance is found to be 25. Another random sample of 15 measurements is taken from another\n",
    "normal population with unknown variance, and the sample variance is found to be 20. Conduct an F-test\n",
    "at the 10% significance level to determine if the variances are significantly different.**"
   ]
  },
  {
   "cell_type": "markdown",
   "id": "72cbe24a-229f-4d1b-9ceb-77b057a264bd",
   "metadata": {},
   "source": [
    "**ANSWER**:----\n",
    "\n",
    "To conduct an F-test at the 10% significance level to determine if the variances of two normal populations are significantly different, follow these steps:\n",
    "\n",
    "1. **Define Hypotheses**:\n",
    "   - Null Hypothesis \\( H_0 \\): The variances are equal (\\( \\sigma_1^2 = \\sigma_2^2 \\)).\n",
    "   - Alternative Hypothesis \\( H_1 \\): The variances are not equal (\\( \\sigma_1^2 \\neq \\sigma_2^2 \\)).\n",
    "\n",
    "2. **Calculate the F-Statistic**:\n",
    "   - The F-statistic is the ratio of the two sample variances. Ensure the larger variance is in the numerator to get the correct F-statistic for the test.\n",
    "\n",
    "3. **Determine the Critical F-Values**:\n",
    "   - Use the F-distribution to find the critical F-values at the 10% significance level for a two-tailed test with degrees of freedom \\( df_n = n_1 - 1 \\) and \\( df_d = n_2 - 1 \\).\n",
    "\n",
    "4. **Compare the F-Statistic with the Critical F-Values**:\n",
    "   - If the F-statistic is greater than the upper critical F-value or less than the reciprocal of the upper critical F-value, reject the null hypothesis.\n",
    "\n",
    "Here's the Python implementation for this process:\n",
    "\n",
    "### Step-by-Step Python Implementation\n",
    "\n",
    "1. **Import Required Libraries**:\n",
    "   - `scipy.stats` for the F-distribution.\n",
    "\n",
    "2. **Calculate the F-Statistic**:\n",
    "   - Use the sample variances and sample sizes.\n",
    "\n",
    "3. **Determine the Critical F-Values**:\n",
    "   - Use the `scipy.stats.f.ppf` function to find the critical F-values for a two-tailed test.\n",
    "\n",
    "4. **Perform the Test and Interpret the Results**:\n",
    "   - Compare the F-statistic with the critical F-values and determine if the null hypothesis can be rejected.\n",
    "\n",
    "\n",
    "### Explanation:\n",
    "\n",
    "- **Calculate the F-Statistic**: The ratio of the larger sample variance to the smaller sample variance.\n",
    "- **Degrees of Freedom**: For the numerator \\( df_n = n_1 - 1 \\) and for the denominator \\( df_d = n_2 - 1 \\).\n",
    "- **Critical F-Values**: For a two-tailed test at a 10% significance level, use `f.ppf` to get the upper and lower critical F-values.\n",
    "- **Interpretation**:\n",
    "  - If the F-statistic is greater than the upper critical value or less than the reciprocal of the upper critical value, reject the null hypothesis.\n",
    "  - Otherwise, fail to reject the null hypothesis.\n",
    "\n"
   ]
  },
  {
   "cell_type": "code",
   "execution_count": 11,
   "id": "63d23b3f-9924-402e-8c1c-9dddf71947e7",
   "metadata": {},
   "outputs": [
    {
     "name": "stdout",
     "output_type": "stream",
     "text": [
      "F-statistic: 1.25\n",
      "Critical F-value (upper): 2.6457907352338195\n",
      "Critical F-value (lower): 0.3305268601412525\n",
      "Fail to reject the null hypothesis: The variances are not significantly different.\n"
     ]
    }
   ],
   "source": [
    "from scipy.stats import f\n",
    "\n",
    "# Given data\n",
    "sample_variance1 = 25\n",
    "n1 = 10\n",
    "\n",
    "sample_variance2 = 20\n",
    "n2 = 15\n",
    "\n",
    "# Calculate the F-statistic\n",
    "f_statistic = sample_variance1 / sample_variance2 if sample_variance1 > sample_variance2 else sample_variance2 / sample_variance1\n",
    "\n",
    "# Degrees of freedom\n",
    "dfn = n1 - 1\n",
    "dfd = n2 - 1\n",
    "\n",
    "# Significance level for a two-tailed test\n",
    "alpha = 0.10\n",
    "\n",
    "# Critical F-values for a two-tailed test\n",
    "f_critical_upper = f.ppf(1 - alpha / 2, dfn, dfd)\n",
    "f_critical_lower = f.ppf(alpha / 2, dfn, dfd)\n",
    "\n",
    "# Perform the F-test and interpret the results\n",
    "print(f\"F-statistic: {f_statistic}\")\n",
    "print(f\"Critical F-value (upper): {f_critical_upper}\")\n",
    "print(f\"Critical F-value (lower): {f_critical_lower}\")\n",
    "\n",
    "if f_statistic > f_critical_upper or f_statistic < 1 / f_critical_upper:\n",
    "    print(\"Reject the null hypothesis: The variances are significantly different.\")\n",
    "else:\n",
    "    print(\"Fail to reject the null hypothesis: The variances are not significantly different.\")\n"
   ]
  },
  {
   "cell_type": "markdown",
   "id": "679aa045-42f3-49bd-b0be-a1e40d49f6f4",
   "metadata": {},
   "source": [
    "**Q8. The following data represent the waiting times in minutes at two different restaurants on a Saturday\n",
    "night: Restaurant A: 24, 25, 28, 23, 22, 20, 27; Restaurant B: 31, 33, 35, 30, 32, 36. Conduct an F-test at the 5%\n",
    "significance level to determine if the variances are significantly different.**"
   ]
  },
  {
   "cell_type": "markdown",
   "id": "7ed95075-777d-42d6-bfcd-44ed0e12d343",
   "metadata": {},
   "source": [
    "**ANSWER**:----\n",
    "\n",
    "To conduct an F-test at the 5% significance level to determine if the variances of the waiting times at two different restaurants are significantly different, we need to follow these steps:\n",
    "\n",
    "1. **Define Hypotheses**:\n",
    "   - Null Hypothesis \\( H_0 \\): The variances are equal (\\( \\sigma_1^2 = \\sigma_2^2 \\)).\n",
    "   - Alternative Hypothesis \\( H_1 \\): The variances are not equal (\\( \\sigma_1^2 \\neq \\sigma_2^2 \\)).\n",
    "\n",
    "2. **Calculate the F-Statistic**:\n",
    "   - The F-statistic is the ratio of the two sample variances. Use the larger variance as the numerator.\n",
    "\n",
    "3. **Determine the Critical F-Values**:\n",
    "   - Use the F-distribution to find the critical F-values at the 5% significance level for a two-tailed test with degrees of freedom \\( df_n = n_1 - 1 \\) and \\( df_d = n_2 - 1 \\).\n",
    "\n",
    "4. **Compare the F-Statistic with the Critical F-Values**:\n",
    "   - If the F-statistic is greater than the upper critical F-value or less than the reciprocal of the upper critical F-value, reject the null hypothesis.\n",
    "\n",
    "Here's the Python implementation for this process:\n",
    "\n",
    "### Step-by-Step Python Implementation\n",
    "\n",
    "1. **Import Required Libraries**:\n",
    "   - `scipy.stats` for the F-distribution.\n",
    "   - `numpy` for calculating variances.\n",
    "\n",
    "2. **Calculate the F-Statistic**:\n",
    "   - Compute the sample variances and then calculate the F-statistic.\n",
    "\n",
    "3. **Determine the Critical F-Values**:\n",
    "   - Use the `scipy.stats.f.ppf` function to find the critical F-values for a two-tailed test.\n",
    "\n",
    "4. **Perform the Test and Interpret the Results**:\n",
    "   - Compare the F-statistic with the critical F-values and determine if the null hypothesis can be rejected.\n",
    "\n"
   ]
  },
  {
   "cell_type": "code",
   "execution_count": 12,
   "id": "7c72a749-10ff-4521-ae66-620d19f1afd5",
   "metadata": {},
   "outputs": [
    {
     "name": "stdout",
     "output_type": "stream",
     "text": [
      "F-statistic: 1.4551907719609583\n",
      "Critical F-value (upper): 6.977701858535566\n",
      "Critical F-value (lower): 0.16701279718024772\n",
      "Fail to reject the null hypothesis: The variances are not significantly different.\n"
     ]
    }
   ],
   "source": [
    "import numpy as np\n",
    "from scipy.stats import f\n",
    "\n",
    "# Given data\n",
    "restaurant_a = [24, 25, 28, 23, 22, 20, 27]\n",
    "restaurant_b = [31, 33, 35, 30, 32, 36]\n",
    "\n",
    "# Calculate the sample variances\n",
    "variance_a = np.var(restaurant_a, ddof=1)\n",
    "variance_b = np.var(restaurant_b, ddof=1)\n",
    "\n",
    "# Calculate the F-statistic\n",
    "f_statistic = variance_a / variance_b if variance_a > variance_b else variance_b / variance_a\n",
    "\n",
    "# Degrees of freedom\n",
    "dfn = len(restaurant_a) - 1\n",
    "dfd = len(restaurant_b) - 1\n",
    "\n",
    "# Significance level for a two-tailed test\n",
    "alpha = 0.05\n",
    "\n",
    "# Critical F-values for a two-tailed test\n",
    "f_critical_upper = f.ppf(1 - alpha / 2, dfn, dfd)\n",
    "f_critical_lower = f.ppf(alpha / 2, dfn, dfd)\n",
    "\n",
    "# Perform the F-test and interpret the results\n",
    "print(f\"F-statistic: {f_statistic}\")\n",
    "print(f\"Critical F-value (upper): {f_critical_upper}\")\n",
    "print(f\"Critical F-value (lower): {f_critical_lower}\")\n",
    "\n",
    "if f_statistic > f_critical_upper or f_statistic < 1 / f_critical_upper:\n",
    "    print(\"Reject the null hypothesis: The variances are significantly different.\")\n",
    "else:\n",
    "    print(\"Fail to reject the null hypothesis: The variances are not significantly different.\")\n"
   ]
  },
  {
   "cell_type": "markdown",
   "id": "015d6f39-4985-4041-9c36-c27beea7f3d3",
   "metadata": {},
   "source": [
    "**Q9. The following data represent the test scores of two groups of students: Group A: 80, 85, 90, 92, 87, 83;\n",
    "Group B: 75, 78, 82, 79, 81, 84. Conduct an F-test at the 1% significance level to determine if the variances\n",
    "are significantly different.**"
   ]
  },
  {
   "cell_type": "markdown",
   "id": "b7530b9f-d6ce-426f-8f21-6c9fccfbec05",
   "metadata": {},
   "source": [
    "**ANSWER**:---\n",
    "\n",
    "To conduct an F-test at the 1% significance level to determine if the variances of the test scores of two groups of students are significantly different, we need to follow these steps:\n",
    "\n",
    "1. **Define Hypotheses**:\n",
    "   - Null Hypothesis \\( H_0 \\): The variances are equal (\\( \\sigma_1^2 = \\sigma_2^2 \\)).\n",
    "   - Alternative Hypothesis \\( H_1 \\): The variances are not equal (\\( \\sigma_1^2 \\neq \\sigma_2^2 \\)).\n",
    "\n",
    "2. **Calculate the F-Statistic**:\n",
    "   - The F-statistic is the ratio of the two sample variances. Use the larger variance as the numerator to ensure the correct F-statistic for the test.\n",
    "\n",
    "3. **Determine the Critical F-Values**:\n",
    "   - Use the F-distribution to find the critical F-values at the 1% significance level for a two-tailed test with degrees of freedom \\( df_n = n_1 - 1 \\) and \\( df_d = n_2 - 1 \\).\n",
    "\n",
    "4. **Compare the F-Statistic with the Critical F-Values**:\n",
    "   - If the F-statistic is greater than the upper critical F-value or less than the reciprocal of the upper critical F-value, reject the null hypothesis.\n",
    "\n",
    "Here's the Python implementation for this process:\n",
    "\n",
    "### Step-by-Step Python Implementation\n",
    "\n",
    "1. **Import Required Libraries**:\n",
    "   - `scipy.stats` for the F-distribution.\n",
    "   - `numpy` for calculating variances.\n",
    "\n",
    "2. **Calculate the F-Statistic**:\n",
    "   - Compute the sample variances and then calculate the F-statistic.\n",
    "\n",
    "3. **Determine the Critical F-Values**:\n",
    "   - Use the `scipy.stats.f.ppf` function to find the critical F-values for a two-tailed test.\n",
    "\n",
    "4. **Perform the Test and Interpret the Results**:\n",
    "   - Compare the F-statistic with the critical F-values and determine if the null hypothesis can be rejected.\n",
    "\n",
    "\n",
    "- **Interpretation**:\n",
    "  - If the F-statistic is greater than the upper critical value or less than the reciprocal of the upper critical value (since the test is two-tailed), reject the null hypothesis.\n",
    "  - Otherwise, fail to reject the null hypothesis.\n"
   ]
  },
  {
   "cell_type": "code",
   "execution_count": 13,
   "id": "8494ee58-da7f-476f-812f-52159a92fac4",
   "metadata": {},
   "outputs": [
    {
     "name": "stdout",
     "output_type": "stream",
     "text": [
      "F-statistic: 1.9442622950819677\n",
      "Critical F-value (upper): 14.939605459912224\n",
      "Critical F-value (lower): 0.066936171954696\n",
      "Fail to reject the null hypothesis: The variances are not significantly different.\n"
     ]
    }
   ],
   "source": [
    "import numpy as np\n",
    "from scipy.stats import f\n",
    "\n",
    "# Given data\n",
    "group_a = [80, 85, 90, 92, 87, 83]\n",
    "group_b = [75, 78, 82, 79, 81, 84]\n",
    "\n",
    "# Calculate the sample variances\n",
    "variance_a = np.var(group_a, ddof=1)\n",
    "variance_b = np.var(group_b, ddof=1)\n",
    "\n",
    "# Calculate the F-statistic\n",
    "f_statistic = variance_a / variance_b if variance_a > variance_b else variance_b / variance_a\n",
    "\n",
    "# Degrees of freedom\n",
    "dfn = len(group_a) - 1\n",
    "dfd = len(group_b) - 1\n",
    "\n",
    "# Significance level for a two-tailed test\n",
    "alpha = 0.01\n",
    "\n",
    "# Critical F-values for a two-tailed test\n",
    "f_critical_upper = f.ppf(1 - alpha / 2, dfn, dfd)\n",
    "f_critical_lower = f.ppf(alpha / 2, dfn, dfd)\n",
    "\n",
    "# Perform the F-test and interpret the results\n",
    "print(f\"F-statistic: {f_statistic}\")\n",
    "print(f\"Critical F-value (upper): {f_critical_upper}\")\n",
    "print(f\"Critical F-value (lower): {f_critical_lower}\")\n",
    "\n",
    "if f_statistic > f_critical_upper or f_statistic < 1 / f_critical_upper:\n",
    "    print(\"Reject the null hypothesis: The variances are significantly different.\")\n",
    "else:\n",
    "    print(\"Fail to reject the null hypothesis: The variances are not significantly different.\")\n"
   ]
  },
  {
   "cell_type": "code",
   "execution_count": null,
   "id": "bf2df6b0-afc2-4204-bc75-20fb88ab5084",
   "metadata": {},
   "outputs": [],
   "source": []
  }
 ],
 "metadata": {
  "kernelspec": {
   "display_name": "Python 3 (ipykernel)",
   "language": "python",
   "name": "python3"
  },
  "language_info": {
   "codemirror_mode": {
    "name": "ipython",
    "version": 3
   },
   "file_extension": ".py",
   "mimetype": "text/x-python",
   "name": "python",
   "nbconvert_exporter": "python",
   "pygments_lexer": "ipython3",
   "version": "3.10.8"
  }
 },
 "nbformat": 4,
 "nbformat_minor": 5
}
